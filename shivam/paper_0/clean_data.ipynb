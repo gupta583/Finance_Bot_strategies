{
 "cells": [
  {
   "cell_type": "code",
   "execution_count": 4,
   "metadata": {},
   "outputs": [],
   "source": [
    "import numpy as np\n",
    "import pandas as pd\n",
    "import datetime as dt\n",
    "import xlrd\n",
    "import xlsxwriter\n",
    "from collections import OrderedDict\n",
    "import sys\n",
    "from utils import frames_to_excel, dictmap_load, dictmap_datetime"
   ]
  },
  {
   "cell_type": "code",
   "execution_count": 5,
   "metadata": {},
   "outputs": [
    {
     "name": "stdout",
     "output_type": "stream",
     "text": [
      "clean_dataset - Start...\n"
     ]
    }
   ],
   "source": [
    "print(\"clean_dataset - Start...\")"
   ]
  },
  {
   "cell_type": "code",
   "execution_count": 8,
   "metadata": {},
   "outputs": [],
   "source": [
    "raw_xlsx_file = pd.ExcelFile(\"data/raw/raw_data.xlsx\")"
   ]
  },
  {
   "cell_type": "code",
   "execution_count": 14,
   "metadata": {},
   "outputs": [
    {
     "data": {
      "text/plain": [
       "['HangSeng Index Data',\n",
       " 'HangSeng Index Future Data',\n",
       " 'S&P500 Index Data',\n",
       " 'S&P500 Index Future Data',\n",
       " 'CSI300 Index Data',\n",
       " 'CSI300 Index Future Data',\n",
       " 'DJIA index Data',\n",
       " 'DJIA index future data',\n",
       " 'Nikkei 225 index Data',\n",
       " 'Nikkei 225 index future Data',\n",
       " 'Nifty 50 index Data',\n",
       " 'Nifty 50 index future Data']"
      ]
     },
     "execution_count": 14,
     "metadata": {},
     "output_type": "execute_result"
    }
   ],
   "source": [
    "dict_dataframes = pd.read_excel(raw_xlsx_file,sheet_name = None)\n",
    "list(dict_dataframes)"
   ]
  },
  {
   "cell_type": "code",
   "execution_count": 15,
   "metadata": {},
   "outputs": [
    {
     "name": "stdout",
     "output_type": "stream",
     "text": [
      "<class 'collections.OrderedDict'>\n"
     ]
    }
   ],
   "source": [
    "print(type(dict_dataframes))"
   ]
  },
  {
   "cell_type": "code",
   "execution_count": 16,
   "metadata": {},
   "outputs": [],
   "source": [
    "dict_dataframes = dict(dict_dataframes)"
   ]
  },
  {
   "cell_type": "code",
   "execution_count": 17,
   "metadata": {},
   "outputs": [],
   "source": [
    "dict_dataframes = {k.lower(): v for k, v in dict_dataframes.items()}"
   ]
  },
  {
   "cell_type": "code",
   "execution_count": 18,
   "metadata": {},
   "outputs": [
    {
     "data": {
      "text/plain": [
       "['hangseng index data',\n",
       " 'hangseng index future data',\n",
       " 's&p500 index data',\n",
       " 's&p500 index future data',\n",
       " 'csi300 index data',\n",
       " 'csi300 index future data',\n",
       " 'djia index data',\n",
       " 'djia index future data',\n",
       " 'nikkei 225 index data',\n",
       " 'nikkei 225 index future data',\n",
       " 'nifty 50 index data',\n",
       " 'nifty 50 index future data']"
      ]
     },
     "execution_count": 18,
     "metadata": {},
     "output_type": "execute_result"
    }
   ],
   "source": [
    "list(dict_dataframes)"
   ]
  },
  {
   "cell_type": "code",
   "execution_count": 19,
   "metadata": {},
   "outputs": [
    {
     "name": "stdout",
     "output_type": "stream",
     "text": [
      "hangseng index data\n",
      "hangseng index future data\n",
      "s&p500 index data\n",
      "s&p500 index future data\n",
      "csi300 index data\n",
      "csi300 index future data\n",
      "djia index data\n",
      "djia index future data\n",
      "nikkei 225 index data\n",
      "nikkei 225 index future data\n",
      "nifty 50 index data\n",
      "nifty 50 index future data\n"
     ]
    }
   ],
   "source": [
    "print(\"\\n\".join(list(dict_dataframes.keys())))"
   ]
  },
  {
   "cell_type": "code",
   "execution_count": 20,
   "metadata": {},
   "outputs": [],
   "source": [
    "for item in dict_dataframes:\n",
    "    dict_dataframes[item].columns = map(str.lower, dict_dataframes[item].columns)"
   ]
  },
  {
   "cell_type": "code",
   "execution_count": 21,
   "metadata": {},
   "outputs": [],
   "source": [
    "key_order = ['csi300 index data',\n",
    "'csi300 index future data',\n",
    "'nifty 50 index data',\n",
    "'nifty 50 index future data',\n",
    "'hangseng index data',\n",
    "'hangseng index future data',\n",
    "'nikkei 225 index data',\n",
    "'nikkei 225 index future data',\n",
    "'s&p500 index data',\n",
    "'s&p500 index future data',\n",
    "'djia index data',\n",
    "'djia index future data',\n",
    "]\n",
    "list_of_tuples = [(key, dict_dataframes[key]) for key in key_order]"
   ]
  },
  {
   "cell_type": "code",
   "execution_count": 22,
   "metadata": {},
   "outputs": [
    {
     "data": {
      "text/plain": [
       "[('csi300 index data',\n",
       "            time  open price  high price  low price  closing price  \\\n",
       "  0     20080701   2799.2000   2809.3800  2690.1800      2698.3500   \n",
       "  1     20080702   2702.6300   2745.9400  2670.0600      2699.6000   \n",
       "  2     20080703   2654.4800   2807.6800  2617.2600      2760.6100   \n",
       "  3     20080704   2751.2100   2783.8500  2716.0200      2741.8500   \n",
       "  4     20080707   2747.6100   2890.9900  2747.6100      2882.7600   \n",
       "  ...        ...         ...         ...        ...            ...   \n",
       "  2005  20160926   3267.6905   3267.6905  3220.2838      3220.2838   \n",
       "  2006  20160927   3214.8704   3240.7756  3214.4414      3240.7546   \n",
       "  2007  20160928   3243.6470   3243.6470  3227.9960      3230.8904   \n",
       "  2008  20160929   3234.8570   3257.7668  3234.8032      3244.3874   \n",
       "  2009  20160930   3240.1775   3260.9405  3239.0364      3253.2848   \n",
       "  \n",
       "              volume  us dollar index  shibor        macd         cci       atr  \\\n",
       "  0     2.885158e+05          72.3400  2.5006 -213.078565 -128.949052  119.2000   \n",
       "  1     2.791637e+05          71.9900  2.7238 -213.732249 -139.719688   75.8750   \n",
       "  2     4.566030e+05          72.7300  2.5762 -206.941406 -112.113057  190.4240   \n",
       "  3     3.790501e+05          72.7100  2.5632 -200.759162  -81.997539   67.8250   \n",
       "  4     5.273202e+05          72.7100  2.5679 -182.386907   21.707767  149.1330   \n",
       "  ...            ...              ...     ...         ...         ...       ...   \n",
       "  2005  7.045219e+09          95.2986  2.1640   -9.961797  -99.426484   55.3827   \n",
       "  2006  5.846055e+09          95.4499  2.1660  -11.814952  -95.785014   26.3342   \n",
       "  2007  4.472750e+09          95.4275  2.1780  -13.919087  -83.431908   15.6510   \n",
       "  2008  5.545256e+09          95.5172  2.1880  -14.332320  -54.442910   26.8764   \n",
       "  2009  4.497802e+09          95.4426  2.3270  -13.782982  -32.277586   21.9041   \n",
       "  \n",
       "               boll        ema20        ma10      mtm6         ma5     mtm12  \\\n",
       "  0     3173.475692  3033.748201  2851.25040  -91.5940  2851.32620 -280.7700   \n",
       "  1     3140.413385  3001.924277  2822.08280 -152.3180  2797.33820 -252.6450   \n",
       "  2     3109.044731  2978.942155  2820.83640 -208.9250  2753.27920  -82.0640   \n",
       "  3     3073.107115  2956.362140  2810.05480 -239.0550  2738.44540 -249.4210   \n",
       "  4     3046.256923  2949.352699  2819.33700   66.7420  2756.63420  109.6870   \n",
       "  ...           ...          ...         ...       ...         ...       ...   \n",
       "  2005  3304.382381  3282.091578  3265.39465  -18.4461  3262.22222 -122.3421   \n",
       "  2006  3299.623515  3278.154723  3257.66571  -22.3696  3258.89246 -100.0626   \n",
       "  2007  3294.464696  3273.653359  3254.49432  -26.5130  3251.74328 -108.6736   \n",
       "  2008  3290.910562  3270.866125  3252.89976  -22.2489  3242.39654  -73.6566   \n",
       "  2009  3287.504985  3269.191713  3254.35525  -37.8363  3237.92020   -9.3195   \n",
       "  \n",
       "             roc       smi          wvad  \n",
       "  0    -9.424605 -0.097927 -8.726278e+07  \n",
       "  1    -8.557733 -0.026497 -1.095493e+08  \n",
       "  2    -2.886857 -0.031251 -5.855737e+07  \n",
       "  3    -8.338289 -0.017237 -7.467503e+07  \n",
       "  4     3.955427  0.010701 -3.531151e+07  \n",
       "  ...        ...       ...           ...  \n",
       "  2005 -3.660060 -0.029463 -2.297142e+08  \n",
       "  2006 -2.995153 -0.006697 -9.168405e+07  \n",
       "  2007 -3.254125 -0.009031 -1.528095e+08  \n",
       "  2008 -2.219880  0.001744 -8.964788e+07  \n",
       "  2009 -0.285646 -0.003015 -4.815453e+07  \n",
       "  \n",
       "  [2010 rows x 20 columns]),\n",
       " ('csi300 index future data',       num_time  matlab_time   close\n",
       "  0     20100930       734411  2953.4\n",
       "  1     20101008       734419  3054.2\n",
       "  2     20101011       734422  3137.6\n",
       "  3     20101012       734423  3154.6\n",
       "  4     20101013       734424  3206.8\n",
       "  ...        ...          ...     ...\n",
       "  1455  20160926       736599  3204.8\n",
       "  1456  20160927       736600  3224.8\n",
       "  1457  20160928       736601  3221.4\n",
       "  1458  20160929       736602  3241.8\n",
       "  1459  20160930       736603  3246.0\n",
       "  \n",
       "  [1460 rows x 3 columns]),\n",
       " ('nifty 50 index data',\n",
       "            date   ntime  open price  high price  low price  closing price  \\\n",
       "  0     20080701  733590     4039.75     4075.40    3878.20        3896.75   \n",
       "  1     20080702  733591     3895.30     4107.15    3848.25        4093.35   \n",
       "  2     20080703  733592     4094.60     4097.35    3874.85        3925.75   \n",
       "  3     20080704  733593     3926.65     4033.50    3896.40        4016.00   \n",
       "  4     20080707  733596     4002.00     4114.50    4002.00        4030.00   \n",
       "  ...        ...     ...         ...         ...        ...            ...   \n",
       "  2038  20160926  736599     8807.90     8809.55    8715.10        8723.05   \n",
       "  2039  20160927  736600     8748.90     8768.50    8690.50        8706.40   \n",
       "  2040  20160928  736601     8711.20     8767.05    8703.15        8745.15   \n",
       "  2041  20160929  736602     8792.70     8800.65    8558.25        8591.25   \n",
       "  2042  20160930  736603     8581.50     8637.15    8555.20        8611.15   \n",
       "  \n",
       "           volume       macd        cci     atr  ...        ema20      ma5  \\\n",
       "  0     164469220 -201.56000 -180.03000  197.20  ...  4385.058946  4128.49   \n",
       "  1     199920144 -199.63000 -131.91000  258.90  ...  4357.277142  4096.63   \n",
       "  2     154573765 -209.21000 -129.55000  222.50  ...  4316.179319  4018.61   \n",
       "  3     152045352 -207.14000 -111.08000  137.10  ...  4287.590812  3994.48   \n",
       "  4     125737237 -202.03000  -80.86000  112.50  ...  4263.058354  3992.37   \n",
       "  ...         ...        ...        ...     ...  ...          ...      ...   \n",
       "  2038  169050086   38.16603  -35.06066  116.45  ...  8768.913294  8795.02   \n",
       "  2039  156100521   28.88112  -74.44386   78.00  ...  8762.959647  8781.12   \n",
       "  2040  170643694   24.36865  -71.34737   63.90  ...  8761.263490  8774.72   \n",
       "  2041  384395249    8.27859 -162.18813  242.40  ...  8745.071729  8719.48   \n",
       "  2042  187333285   -2.83443 -182.16234   81.95  ...  8732.317279  8675.40   \n",
       "  \n",
       "            ma10    mtm6   mtm12        roc       smi         wvad  \\\n",
       "  0     4253.415 -369.65 -620.35 -13.733369 -0.149627 -828023961.0   \n",
       "  1     4204.510  -97.75 -479.15 -10.478950 -0.091225 -561033032.0   \n",
       "  2     4146.660 -326.90 -727.25 -15.629701 -0.097020 -726253640.3   \n",
       "  3     4113.505 -299.85 -566.40 -12.360335 -0.058691 -548766472.1   \n",
       "  4     4089.865 -106.65 -474.25 -10.528945 -0.038439 -486195115.1   \n",
       "  ...        ...     ...     ...        ...       ...          ...   \n",
       "  2038  8774.810  -56.80 -194.90  -2.185480  0.000854 -520810114.5   \n",
       "  2039  8773.890 -102.00 -246.10  -2.748953 -0.002315 -522003738.6   \n",
       "  2040  8775.745  -30.75 -121.55  -1.370860  0.000297 -444559525.2   \n",
       "  2041  8760.615 -185.90 -124.35  -1.426752 -0.021481 -770928358.7   \n",
       "  2042  8743.745 -256.30 -115.45  -1.322967 -0.022393 -533705581.2   \n",
       "  \n",
       "        us dollar index  interbank offered rate  \n",
       "  0             72.3400                   8.706  \n",
       "  1             71.9900                   7.730  \n",
       "  2             72.7300                   6.400  \n",
       "  3             72.7100                   6.210  \n",
       "  4             72.7100                   9.000  \n",
       "  ...               ...                     ...  \n",
       "  2038          95.2986                   6.550  \n",
       "  2039          95.4499                   6.540  \n",
       "  2040          95.4275                   6.540  \n",
       "  2041          95.5172                   6.520  \n",
       "  2042          95.4426                   6.520  \n",
       "  \n",
       "  [2043 rows x 21 columns]),\n",
       " ('nifty 50 index future data',           date   ntime  close price\n",
       "  0     20100930  734411      6018.50\n",
       "  1     20101001  734412      6180.00\n",
       "  2     20101004  734415      6178.00\n",
       "  3     20101005  734416      6173.50\n",
       "  4     20101006  734417      6214.00\n",
       "  ...        ...     ...          ...\n",
       "  1485  20160926  736599      8735.15\n",
       "  1486  20160927  736600      8716.55\n",
       "  1487  20160928  736601      8758.45\n",
       "  1488  20160929  736602      8591.25\n",
       "  1489  20160930  736603      8640.65\n",
       "  \n",
       "  [1490 rows x 3 columns]),\n",
       " ('hangseng index data',\n",
       "           ntime    time  closing price  open price  high price   low price  \\\n",
       "  0     20080702  733591     21704.4492  21785.3906  21938.1992  21555.5293   \n",
       "  1     20080703  733592     21242.7793  21389.4902  21742.0703  21163.5703   \n",
       "  2     20080704  733593     21423.8203  21402.1699  21534.0508  21344.8496   \n",
       "  3     20080707  733596     21913.0605  21402.6992  21916.2109  21402.6992   \n",
       "  4     20080708  733597     21220.8105  21632.6992  21684.2109  21098.8398   \n",
       "  ...        ...     ...            ...         ...         ...         ...   \n",
       "  2032  20160926  736599     23317.9200  23554.8300  23563.5000  23276.1300   \n",
       "  2033  20160927  736600     23571.9000  23356.0300  23646.0300  23295.0500   \n",
       "  2034  20160928  736601     23619.6500  23455.7300  23619.6500  23370.4400   \n",
       "  2035  20160929  736602     23739.4700  23828.6000  23828.6000  23607.9900   \n",
       "  2036  20160930  736603     23297.1500  23435.2900  23484.3700  23239.3600   \n",
       "  \n",
       "           volume        macd         cci       atr  ...         ema20  \\\n",
       "  0     254858.26 -646.053200 -193.115118  546.4805  ...  22956.709411   \n",
       "  1     272528.48 -702.282620 -186.955957  578.5000  ...  22793.477972   \n",
       "  2     179634.42 -723.891770 -133.742667  291.2715  ...  22663.034384   \n",
       "  3     196457.92 -693.544830  -77.445777  513.5117  ...  22591.608300   \n",
       "  4     201519.68 -717.087314 -108.634123  814.2207  ...  22461.056128   \n",
       "  ...         ...         ...         ...       ...  ...           ...   \n",
       "  2032  165277.13  227.155512  -68.230986  410.3500  ...  23384.554550   \n",
       "  2033  181639.12  216.122195  -25.266239  350.9800  ...  23402.396974   \n",
       "  2034  152435.09  208.824045  -10.028129  249.2100  ...  23423.087738   \n",
       "  2035  160607.92  210.284649   63.767894  220.6100  ...  23453.219382   \n",
       "  2036  167484.27  173.747805  -78.490429  500.1100  ...  23438.355631   \n",
       "  \n",
       "               ma10       mtm6          ma5      mtm12       roc       smi  \\\n",
       "  0     22497.96286  -751.5703  22187.92768  -887.8516 -5.754486 -0.069509   \n",
       "  1     22289.66071 -1392.3806  21909.45156 -1786.9102 -7.872373 -0.068201   \n",
       "  2     22152.28180 -1031.8496  21703.08164 -1634.1699 -8.153977 -0.058111   \n",
       "  3     22069.02789  -129.2891  21677.22382 -1412.7403 -3.880007 -0.035303   \n",
       "  4     21919.61285  -881.1993  21500.98396 -1576.7989 -6.703666 -0.055006   \n",
       "  ...           ...        ...          ...        ...       ...       ...   \n",
       "  2032  23454.80000   127.2800  23592.99200  -423.8900 -1.974804  0.001172   \n",
       "  2033  23482.93000    21.4500  23601.20000  -347.4400 -0.715657  0.015109   \n",
       "  2034  23523.31900    88.7900  23591.15000  -480.0500 -1.252919  0.018163   \n",
       "  2035  23578.20200    69.5700  23587.08400   448.8700 -1.494749  0.017013   \n",
       "  2036  23574.35800  -462.6500  23509.21800    81.3900  0.028123 -0.010756   \n",
       "  \n",
       "                 wvad  us dollar index  hibor  \n",
       "  0    -401619.369837          71.9900   1.60  \n",
       "  1    -507305.257079          72.7300   1.60  \n",
       "  2    -398848.614015          72.7100   1.60  \n",
       "  3    -264228.169678          72.7100   1.60  \n",
       "  4    -518512.844172          72.9600   1.60  \n",
       "  ...             ...              ...    ...  \n",
       "  2032  130476.364978          95.2986   0.16  \n",
       "  2033  167004.823605          95.4499   0.16  \n",
       "  2034  368052.470313          95.4275   0.16  \n",
       "  2035  302602.100599          95.5172   0.16  \n",
       "  2036  130773.724754          95.4426   0.16  \n",
       "  \n",
       "  [2037 rows x 21 columns]),\n",
       " ('hangseng index future data',          ntime  matlab_time  close\n",
       "  0     20100930       734411  22328\n",
       "  1     20101004       734415  22630\n",
       "  2     20101005       734416  22700\n",
       "  3     20101006       734417  22920\n",
       "  4     20101007       734418  22969\n",
       "  ...        ...          ...    ...\n",
       "  1475  20160926       736599  23315\n",
       "  1476  20160927       736600  23622\n",
       "  1477  20160928       736601  23641\n",
       "  1478  20160929       736602  23702\n",
       "  1479  20160930       736603  23313\n",
       "  \n",
       "  [1480 rows x 3 columns]),\n",
       " ('nikkei 225 index data',\n",
       "           ntime    time  open price  closing price  high price  low price  \\\n",
       "  0     20080701  733590    13514.86       13463.20    13576.41   13448.35   \n",
       "  1     20080702  733591    13489.87       13286.37    13489.87   13247.05   \n",
       "  2     20080703  733592    13161.78       13265.40    13326.95   13118.89   \n",
       "  3     20080704  733593    13285.49       13237.89    13288.55   13135.46   \n",
       "  4     20080707  733596    13212.80       13360.04    13409.30   13169.55   \n",
       "  ...        ...     ...         ...            ...         ...        ...   \n",
       "  2017  20160926  736599    16707.45       16544.56    16707.45   16514.93   \n",
       "  2018  20160927  736600    16390.91       16683.93    16683.93   16285.41   \n",
       "  2019  20160928  736601    16504.99       16465.40    16515.84   16385.03   \n",
       "  2020  20160929  736602    16606.30       16693.71    16756.43   16584.14   \n",
       "  2021  20160930  736603    16474.45       16449.84    16497.55   16407.78   \n",
       "  \n",
       "            volume        macd         cci     atr  ...         ema20  \\\n",
       "  0     1214337792 -114.301649 -120.229761  128.06  ...  13897.557190   \n",
       "  1     1365464704 -147.117042 -133.036580  242.82  ...  13839.348886   \n",
       "  2     1542018688 -172.823381 -131.208230  208.06  ...  13784.687087   \n",
       "  3     1173963776 -193.188708 -114.108852  153.09  ...  13732.611174   \n",
       "  4     1070972288 -197.198708  -81.354621  239.75  ...  13697.128205   \n",
       "  ...          ...         ...         ...     ...  ...           ...   \n",
       "  2017  1028528000    1.474192  -59.370093  239.09  ...  16688.251988   \n",
       "  2018  1570779392    1.878708  -66.041564  398.52  ...  16687.840370   \n",
       "  2019  1122356480  -15.258365  -95.980336  298.90  ...  16666.655573   \n",
       "  2020  1227307008  -10.298199   15.425043  291.03  ...  16669.232185   \n",
       "  2021  1243705088  -25.748688  -90.664084  285.93  ...  16648.337691   \n",
       "  \n",
       "              ma5       ma10    mtm6    mtm12       roc       smi          wvad  \\\n",
       "  0     13628.236  13837.328 -394.27  -510.53 -3.653498 -0.068472 -1.241170e+07   \n",
       "  1     13519.526  13720.683 -563.19 -1068.00 -7.440243 -0.059716 -3.577142e+07   \n",
       "  2     13408.142  13634.206 -564.52 -1082.97 -7.547687 -0.048535 -4.174061e+07   \n",
       "  3     13346.848  13563.787 -584.43 -1214.93 -8.406180 -0.044711 -5.094076e+07   \n",
       "  4     13322.580  13514.044 -184.32  -770.13 -5.450253 -0.035346 -3.809577e+07   \n",
       "  ...         ...        ...     ...      ...       ...       ...           ...   \n",
       "  2017  16623.528  16650.461  -69.68  -537.42 -3.146122 -0.024826  2.378885e+07   \n",
       "  2018  16656.456  16622.278  164.64  -328.51 -1.930999  0.000660  3.545126e+07   \n",
       "  2019  16651.106  16601.526  -26.75  -493.37 -2.909232 -0.015759  3.472072e+07   \n",
       "  2020  16628.324  16597.993 -113.91  -272.05 -1.603524  0.004760  3.680946e+07   \n",
       "  2021  16567.488  16581.553 -357.78  -223.08 -1.337978  0.002725  3.548260e+07   \n",
       "  \n",
       "        us dollar index  interbank offered rate  \n",
       "  0             72.3400                 0.60333  \n",
       "  1             71.9900                 0.60333  \n",
       "  2             72.7300                 0.60250  \n",
       "  3             72.7100                 0.60250  \n",
       "  4             72.7100                 0.60250  \n",
       "  ...               ...                     ...  \n",
       "  2017          95.2986                 0.01182  \n",
       "  2018          95.4499                 0.01091  \n",
       "  2019          95.4275                 0.01091  \n",
       "  2020          95.5172                 0.01000  \n",
       "  2021          95.4426                 0.00909  \n",
       "  \n",
       "  [2022 rows x 21 columns]),\n",
       " ('nikkei 225 index future data',          ntime    time  close price\n",
       "  0     20100930  734411         9360\n",
       "  1     20101001  734412         9390\n",
       "  2     20101004  734415         9350\n",
       "  3     20101005  734416         9520\n",
       "  4     20101006  734417         9700\n",
       "  ...        ...     ...          ...\n",
       "  1467  20160926  736599        16400\n",
       "  1468  20160927  736600        16540\n",
       "  1469  20160928  736601        16460\n",
       "  1470  20160929  736602        16720\n",
       "  1471  20160930  736603        16450\n",
       "  \n",
       "  [1472 rows x 3 columns]),\n",
       " ('s&p500 index data',\n",
       "           ntime    time  close price  open price  high price  low price  \\\n",
       "  0     20080701  733590      1284.91     1276.69     1285.31    1260.68   \n",
       "  1     20080702  733591      1261.52     1285.82     1292.17    1261.51   \n",
       "  2     20080703  733592      1262.90     1262.96     1271.48    1252.01   \n",
       "  3     20080707  733596      1252.31     1262.90     1273.95    1240.68   \n",
       "  4     20080708  733597      1273.70     1251.84     1274.17    1242.84   \n",
       "  ...        ...     ...          ...         ...         ...        ...   \n",
       "  2074  20160926  736599      2146.10     2158.54     2158.54    2145.04   \n",
       "  2075  20160927  736600      2159.93     2146.04     2161.13    2141.55   \n",
       "  2076  20160928  736601      2171.37     2161.85     2172.40    2151.79   \n",
       "  2077  20160929  736602      2151.13     2168.90     2172.67    2145.20   \n",
       "  2078  20160930  736603      2168.27     2156.51     2175.30    2156.51   \n",
       "  \n",
       "          volume       macd         cci    atr  ...        ema20      ma10  \\\n",
       "  0     584629.0 -25.545595 -127.422348  24.63  ...  1327.453482  1307.927   \n",
       "  1     527609.0 -27.571986 -115.864929  30.66  ...  1321.174102  1300.298   \n",
       "  2     324759.0 -28.735319 -115.171527  19.47  ...  1315.624188  1292.305   \n",
       "  3     526542.0 -30.164080 -111.302302  33.27  ...  1309.594265  1285.743   \n",
       "  4     603411.0 -29.233405  -82.732708  31.33  ...  1306.175764  1281.313   \n",
       "  ...        ...        ...         ...    ...  ...          ...       ...   \n",
       "  2074  357811.0  -3.864936  -10.284991  19.65  ...  2157.914061  2146.918   \n",
       "  2075  366113.0  -3.200729   22.969783  19.58  ...  2158.106055  2150.209   \n",
       "  2076  361908.0  -1.731270  100.879276  20.61  ...  2159.369288  2154.769   \n",
       "  2077  424922.0  -2.174842   39.501463  27.47  ...  2158.584594  2155.156   \n",
       "  2078  417334.0  -1.130292   86.866401  24.17  ...  2159.507013  2158.067   \n",
       "  \n",
       "         mtm6       ma5  mtm12       roc       smi          wvad  \\\n",
       "  0    -33.09  1289.682 -75.12 -5.523408 -0.039542 -3.772245e+07   \n",
       "  1    -52.77  1277.592 -98.62 -7.250724 -0.060551 -5.204278e+07   \n",
       "  2    -59.07  1273.542 -88.03 -6.516252 -0.041755 -5.556148e+07   \n",
       "  3    -26.07  1268.328 -85.50 -6.740987 -0.049841 -5.352552e+07   \n",
       "  4     -6.30  1267.068 -69.13 -3.356020 -0.030884 -3.909113e+07   \n",
       "  ...     ...       ...    ...       ...       ...           ...   \n",
       "  2074  20.33  2158.170 -35.20 -1.846804  0.008891 -1.701630e+07   \n",
       "  2075  20.81  2162.204  32.12 -1.199821  0.015815 -1.258582e+07   \n",
       "  2076  31.61  2163.854  12.33 -0.455233  0.011104 -7.050632e+06   \n",
       "  2077 -11.99  2158.644  24.11  1.095963  0.005565 -1.063365e+07   \n",
       "  2078  -8.91  2159.360  42.50  0.427505  0.013444 -4.482216e+06   \n",
       "  \n",
       "        us dollar index  federal fund rate  \n",
       "  0             72.3400               2.11  \n",
       "  1             71.9900               1.95  \n",
       "  2             72.7300               1.92  \n",
       "  3             72.7100               1.99  \n",
       "  4             72.9600               1.97  \n",
       "  ...               ...                ...  \n",
       "  2074          95.2986               0.40  \n",
       "  2075          95.4499               0.40  \n",
       "  2076          95.4275               0.40  \n",
       "  2077          95.5172               0.40  \n",
       "  2078          95.4426               0.29  \n",
       "  \n",
       "  [2079 rows x 21 columns]),\n",
       " ('s&p500 index future data',           date    close\n",
       "  0     20100930  1136.75\n",
       "  1     20101001  1142.25\n",
       "  2     20101004  1134.75\n",
       "  3     20101005  1154.75\n",
       "  4     20101006  1155.75\n",
       "  ...        ...      ...\n",
       "  1544  20160926  2139.75\n",
       "  1545  20160927  2152.75\n",
       "  1546  20160928  2163.25\n",
       "  1547  20160929  2148.50\n",
       "  1548  20160930  2160.50\n",
       "  \n",
       "  [1549 rows x 2 columns]),\n",
       " ('djia index data',\n",
       "           ntime    time  open price  closing price  high price  low price  \\\n",
       "  0     20080701  733590    11344.64       11382.26    11407.90   11183.43   \n",
       "  1     20080702  733591    11382.34       11215.51    11434.12   11214.37   \n",
       "  2     20080703  733592    11216.00       11288.54    11337.48   11157.21   \n",
       "  3     20080707  733596    11289.19       11231.96    11399.11   11120.74   \n",
       "  4     20080708  733597    11225.03       11384.21    11391.13   11174.88   \n",
       "  ...        ...     ...         ...            ...         ...        ...   \n",
       "  2074  20160926  736599    18217.76       18094.83    18217.76   18083.32   \n",
       "  2075  20160927  736600    18099.21       18228.30    18238.10   18052.16   \n",
       "  2076  20160928  736601    18240.22       18339.24    18349.86   18179.34   \n",
       "  2077  20160929  736602    18322.88       18143.45    18366.23   18091.64   \n",
       "  2078  20160930  736603    18181.80       18308.15    18369.62   18181.80   \n",
       "  \n",
       "             volume        macd         cci     atr  ...         ema20  \\\n",
       "  0     299589749.0 -301.153786 -132.292916  224.47  ...  11910.843098   \n",
       "  1     230692051.0 -318.760975 -114.927781  219.75  ...  11844.620899   \n",
       "  2     148755195.0 -323.097423  -99.650537  180.27  ...  11791.660813   \n",
       "  3     248235090.0 -327.326407  -87.637530  278.37  ...  11738.355974   \n",
       "  4     271497765.0 -314.764200  -64.637113  216.25  ...  11704.627786   \n",
       "  ...           ...         ...         ...     ...  ...           ...   \n",
       "  2074   95517808.0  -62.843366  -62.760814  178.13  ...  18278.000849   \n",
       "  2075   84127472.0  -58.772407  -28.919468  185.94  ...  18273.267435   \n",
       "  2076   97654288.0  -46.063223   92.429756  170.52  ...  18279.550536   \n",
       "  2077   95882432.0  -51.199524    3.653316  274.59  ...  18266.588580   \n",
       "  2078  135474896.0  -41.501760   78.667370  226.17  ...  18270.546811   \n",
       "  \n",
       "              ma5       ma10    mtm6    mtm12       roc       smi          wvad  \\\n",
       "  0     11468.806  11692.866 -460.10  -925.09 -7.516565 -0.053770 -1.184778e+07   \n",
       "  1     11349.542  11611.511 -591.92 -1053.57 -8.587196 -0.070262 -1.422755e+07   \n",
       "  2     11316.566  11534.056 -523.29  -871.76 -7.168902 -0.046793 -1.336611e+07   \n",
       "  3     11293.656  11472.983 -114.55  -831.13 -6.889860 -0.051544 -1.260938e+07   \n",
       "  4     11300.496  11427.168   34.20  -458.48 -3.871418 -0.035844 -9.533881e+06   \n",
       "  ...         ...        ...     ...      ...       ...       ...           ...   \n",
       "  2074  18234.480  18173.037   60.06  -443.29 -2.391235  0.001552 -4.188907e+06   \n",
       "  2075  18254.148  18189.192  108.13  -297.84 -1.607674  0.010617 -3.418845e+06   \n",
       "  2076  18263.256  18219.639  209.28  -140.67 -0.761205  0.006912 -2.406303e+06   \n",
       "  2077  18213.454  18212.736 -150.25    58.00  0.320700  0.001083 -2.810834e+06   \n",
       "  2078  18222.794  18231.171  -84.31   -16.92 -0.092333  0.010268 -1.658316e+06   \n",
       "  \n",
       "        us dollar index  federal fund rate  \n",
       "  0             72.3400               2.11  \n",
       "  1             71.9900               1.95  \n",
       "  2             72.7300               1.92  \n",
       "  3             72.7100               1.99  \n",
       "  4             72.9600               1.97  \n",
       "  ...               ...                ...  \n",
       "  2074          95.2986               0.40  \n",
       "  2075          95.4499               0.40  \n",
       "  2076          95.4275               0.40  \n",
       "  2077          95.5172               0.40  \n",
       "  2078          95.4426               0.29  \n",
       "  \n",
       "  [2079 rows x 21 columns]),\n",
       " ('djia index future data',           date    time  close price\n",
       "  0     20100930  734411      10723.0\n",
       "  1     20101001  734412      10768.0\n",
       "  2     20101004  734415      10707.0\n",
       "  3     20101005  734416      10864.0\n",
       "  4     20101006  734417      10906.0\n",
       "  ...        ...     ...          ...\n",
       "  1507  20160926  736599      18014.0\n",
       "  1508  20160927  736600      18139.0\n",
       "  1509  20160928  736601      18238.0\n",
       "  1510  20160929  736602      18097.0\n",
       "  1511  20160930  736603      18219.0\n",
       "  \n",
       "  [1512 rows x 3 columns])]"
      ]
     },
     "execution_count": 22,
     "metadata": {},
     "output_type": "execute_result"
    }
   ],
   "source": [
    "(list_of_tuples)"
   ]
  },
  {
   "cell_type": "code",
   "execution_count": 23,
   "metadata": {},
   "outputs": [],
   "source": [
    "dict_dataframes = OrderedDict(list_of_tuples)"
   ]
  },
  {
   "cell_type": "code",
   "execution_count": 26,
   "metadata": {},
   "outputs": [],
   "source": [
    "for item in dict_dataframes:\n",
    "    for subitem in dict_dataframes[item]:\n",
    "        if 'matlab_time' in subitem:\n",
    "            #print(subitem,\"Dropped from \", item)\n",
    "            dict_dataframes[item].drop(subitem,axis=1, inplace=True) \n",
    "        # Rename OHLC columns for consistency\n",
    "        if 'open price' in subitem:\n",
    "            #print(subitem,\"Renamed from \", item)\n",
    "            dict_dataframes[item].rename(columns={'open price':'open'},inplace=True)\n",
    "        if 'high price' in subitem:\n",
    "            #print(subitem,\"Renamed from \", item)\n",
    "            dict_dataframes[item].rename(columns={'high price':'high'},inplace=True)\n",
    "        if 'low price' in subitem:\n",
    "            #print(subitem,\"Renamed from \", item)\n",
    "            dict_dataframes[item].rename(columns={'low price':'low'},inplace=True)\n",
    "        if 'closing price' in subitem:\n",
    "            #print(subitem,\"Renamed from \", item)\n",
    "            dict_dataframes[item].rename(columns={'closing price':'close'},inplace=True)\n",
    "        if 'close price' in subitem:\n",
    "            #print(subitem,\"Renamed from \", item)\n",
    "            dict_dataframes[item].rename(columns={'close price':'close'},inplace=True)     \n"
   ]
  },
  {
   "cell_type": "code",
   "execution_count": 27,
   "metadata": {},
   "outputs": [],
   "source": [
    "# Rename date/ntime columns to date + drop mislabeled matlab_time columns\n",
    "dict_dataframes['csi300 index data'].rename(columns={'time':'date'},inplace=True)\n",
    "dict_dataframes['csi300 index future data'].rename(columns={'num_time':'date'},inplace=True)\n",
    "\n",
    "dict_dataframes['nifty 50 index data'].drop(columns=['ntime'],axis=1, inplace=True)\n",
    "dict_dataframes['nifty 50 index future data'].drop(columns=['ntime'],axis=1, inplace=True)\n",
    "\n",
    "dict_dataframes['hangseng index data'].drop(columns=['time'],axis=1, inplace=True)\n",
    "dict_dataframes['hangseng index data'].rename(columns={'ntime':'date'},inplace=True)\n",
    "\n",
    "dict_dataframes['hangseng index future data'].rename(columns={'ntime':'date'},inplace=True)\n",
    "\n",
    "dict_dataframes['nikkei 225 index data'].rename(columns={'ntime':'date'},inplace=True)\n",
    "dict_dataframes['nikkei 225 index data'].drop(columns=['time'],axis=1, inplace=True)\n",
    "\n",
    "dict_dataframes['nikkei 225 index future data'].drop(columns=['time'],axis=1, inplace=True)\n",
    "dict_dataframes['nikkei 225 index future data'].rename(columns={'ntime':'date'},inplace=True)\n",
    "\n",
    "dict_dataframes['s&p500 index data'].drop(columns=['time'],axis=1, inplace=True)\n",
    "dict_dataframes['s&p500 index data'].rename(columns={'ntime':'date'},inplace=True)\n",
    "\n",
    "dict_dataframes['djia index data'].drop(columns=['time'],axis=1, inplace=True)\n",
    "dict_dataframes['djia index data'].rename(columns={'ntime':'date'},inplace=True)\n",
    "\n",
    "dict_dataframes['djia index future data'].drop(columns=['time'],axis=1, inplace=True)"
   ]
  },
  {
   "cell_type": "code",
   "execution_count": 30,
   "metadata": {},
   "outputs": [],
   "source": [
    "frames_to_excel(dict_dataframes,\"data/interim/clean_data.xlsx\")"
   ]
  },
  {
   "cell_type": "code",
   "execution_count": 32,
   "metadata": {},
   "outputs": [
    {
     "name": "stdout",
     "output_type": "stream",
     "text": [
      "clean_dataset - Finished.\n"
     ]
    }
   ],
   "source": [
    "# Save clean data to disk - index data only\n",
    "key_order = ['csi300 index data',\n",
    "'nifty 50 index data',\n",
    "'hangseng index data',\n",
    "'nikkei 225 index data',\n",
    "'s&p500 index data',\n",
    "'djia index data',\n",
    "]\n",
    "frames_to_excel(dict_dataframes,\"data/interim/clean_data_index.xlsx\",key_order)\n",
    "\n",
    "# Save clean data to disk - future data only\n",
    "key_order = [\n",
    "'csi300 index future data',\n",
    "'nifty 50 index future data',\n",
    "'hangseng index future data',\n",
    "'nikkei 225 index future data',\n",
    "'s&p500 index future data',\n",
    "'djia index future data',\n",
    "]\n",
    "frames_to_excel(dict_dataframes,\"data/interim/clean_data_future.xlsx\",key_order)\n",
    "\n",
    "# Load in excel file with multiple sheets\n",
    "    # and map each excel sheet to an ordered dict (a dict of dataframes)\n",
    "# Convert date column in each dataframe in dict of dataframes \n",
    "    # to datetime object for matplotlib, and set date column as index\n",
    "\n",
    "#print(sys.path)\n",
    "dict_dataframes= dictmap_load(path = \"data/interim/clean_data.xlsx\")\n",
    "dict_dataframes_index = dictmap_load(path = \"data/interim/clean_data_index.xlsx\")   \n",
    "dict_dataframes_future = dictmap_load(path = \"data/interim/clean_data_future.xlsx\")\n",
    "\n",
    "dict_dataframes = dictmap_datetime(dict_dataframes)   \n",
    "dict_dataframes_index = dictmap_datetime(dict_dataframes_index)\n",
    "dict_dataframes_future = dictmap_datetime(dict_dataframes_future)\n",
    "\n",
    "# print(\"\\n\".join(list(dict_dataframes_index.keys())))\n",
    "# print(\"\\n\".join(list(dict_dataframes_future.keys())))\n",
    "# print(dict_dataframes_index['csi300 index data'].info())\n",
    "# print(dict_dataframes_future['csi300 index future data'].info())\n",
    "\n",
    "# Save cleaned data with datetime index in data/interim folder - overwrite previous data\n",
    "frames_to_excel(dict_dataframes,\"data/interim/clean_data.xlsx\")\n",
    "frames_to_excel(dict_dataframes_index,\"data/interim/clean_data_index.xlsx\")\n",
    "frames_to_excel(dict_dataframes_future,\"data/interim/clean_data_future.xlsx\")\n",
    "\n",
    "print(\"clean_dataset - Finished.\")"
   ]
  },
  {
   "cell_type": "code",
   "execution_count": 67,
   "metadata": {},
   "outputs": [],
   "source": [
    "import copy\n",
    "raw_xlsx_file = pd.ExcelFile(\"data/interim/clean_data.xlsx\")\n",
    "dict_dataframes =pd.read_excel(raw_xlsx_file,sheet_name = None)\n",
    "dict_dataframes_index =  copy.deepcopy(dict_dataframes)"
   ]
  },
  {
   "cell_type": "code",
   "execution_count": 68,
   "metadata": {},
   "outputs": [
    {
     "data": {
      "text/html": [
       "<div>\n",
       "<style scoped>\n",
       "    .dataframe tbody tr th:only-of-type {\n",
       "        vertical-align: middle;\n",
       "    }\n",
       "\n",
       "    .dataframe tbody tr th {\n",
       "        vertical-align: top;\n",
       "    }\n",
       "\n",
       "    .dataframe thead th {\n",
       "        text-align: right;\n",
       "    }\n",
       "</style>\n",
       "<table border=\"1\" class=\"dataframe\">\n",
       "  <thead>\n",
       "    <tr style=\"text-align: right;\">\n",
       "      <th></th>\n",
       "      <th>date</th>\n",
       "      <th>open</th>\n",
       "      <th>high</th>\n",
       "      <th>low</th>\n",
       "      <th>close</th>\n",
       "      <th>volume</th>\n",
       "      <th>macd</th>\n",
       "      <th>cci</th>\n",
       "      <th>atr</th>\n",
       "      <th>boll_mid</th>\n",
       "      <th>ema20</th>\n",
       "      <th>ma5</th>\n",
       "      <th>ma10</th>\n",
       "      <th>mtm6</th>\n",
       "      <th>mtm12</th>\n",
       "      <th>roc</th>\n",
       "      <th>smi</th>\n",
       "      <th>wvad</th>\n",
       "      <th>us dollar index</th>\n",
       "      <th>interbank offered rate</th>\n",
       "    </tr>\n",
       "  </thead>\n",
       "  <tbody>\n",
       "    <tr>\n",
       "      <td>0</td>\n",
       "      <td>2008-07-01</td>\n",
       "      <td>4039.75</td>\n",
       "      <td>4075.40</td>\n",
       "      <td>3878.20</td>\n",
       "      <td>3896.75</td>\n",
       "      <td>164469220</td>\n",
       "      <td>-201.56</td>\n",
       "      <td>-180.03</td>\n",
       "      <td>197.2</td>\n",
       "      <td>4409.04</td>\n",
       "      <td>4385.058946</td>\n",
       "      <td>4128.49</td>\n",
       "      <td>4253.415</td>\n",
       "      <td>-369.65</td>\n",
       "      <td>-620.35</td>\n",
       "      <td>-13.733369</td>\n",
       "      <td>-0.149627</td>\n",
       "      <td>-828023961.0</td>\n",
       "      <td>72.34</td>\n",
       "      <td>8.706</td>\n",
       "    </tr>\n",
       "    <tr>\n",
       "      <td>1</td>\n",
       "      <td>2008-07-02</td>\n",
       "      <td>3895.30</td>\n",
       "      <td>4107.15</td>\n",
       "      <td>3848.25</td>\n",
       "      <td>4093.35</td>\n",
       "      <td>199920144</td>\n",
       "      <td>-199.63</td>\n",
       "      <td>-131.91</td>\n",
       "      <td>258.9</td>\n",
       "      <td>4384.43</td>\n",
       "      <td>4357.277142</td>\n",
       "      <td>4096.63</td>\n",
       "      <td>4204.510</td>\n",
       "      <td>-97.75</td>\n",
       "      <td>-479.15</td>\n",
       "      <td>-10.478950</td>\n",
       "      <td>-0.091225</td>\n",
       "      <td>-561033032.0</td>\n",
       "      <td>71.99</td>\n",
       "      <td>7.730</td>\n",
       "    </tr>\n",
       "    <tr>\n",
       "      <td>2</td>\n",
       "      <td>2008-07-03</td>\n",
       "      <td>4094.60</td>\n",
       "      <td>4097.35</td>\n",
       "      <td>3874.85</td>\n",
       "      <td>3925.75</td>\n",
       "      <td>154573765</td>\n",
       "      <td>-209.21</td>\n",
       "      <td>-129.55</td>\n",
       "      <td>222.5</td>\n",
       "      <td>4346.87</td>\n",
       "      <td>4316.179319</td>\n",
       "      <td>4018.61</td>\n",
       "      <td>4146.660</td>\n",
       "      <td>-326.90</td>\n",
       "      <td>-727.25</td>\n",
       "      <td>-15.629701</td>\n",
       "      <td>-0.097020</td>\n",
       "      <td>-726253640.3</td>\n",
       "      <td>72.73</td>\n",
       "      <td>6.400</td>\n",
       "    </tr>\n",
       "    <tr>\n",
       "      <td>3</td>\n",
       "      <td>2008-07-04</td>\n",
       "      <td>3926.65</td>\n",
       "      <td>4033.50</td>\n",
       "      <td>3896.40</td>\n",
       "      <td>4016.00</td>\n",
       "      <td>152045352</td>\n",
       "      <td>-207.14</td>\n",
       "      <td>-111.08</td>\n",
       "      <td>137.1</td>\n",
       "      <td>4316.28</td>\n",
       "      <td>4287.590812</td>\n",
       "      <td>3994.48</td>\n",
       "      <td>4113.505</td>\n",
       "      <td>-299.85</td>\n",
       "      <td>-566.40</td>\n",
       "      <td>-12.360335</td>\n",
       "      <td>-0.058691</td>\n",
       "      <td>-548766472.1</td>\n",
       "      <td>72.71</td>\n",
       "      <td>6.210</td>\n",
       "    </tr>\n",
       "    <tr>\n",
       "      <td>4</td>\n",
       "      <td>2008-07-07</td>\n",
       "      <td>4002.00</td>\n",
       "      <td>4114.50</td>\n",
       "      <td>4002.00</td>\n",
       "      <td>4030.00</td>\n",
       "      <td>125737237</td>\n",
       "      <td>-202.03</td>\n",
       "      <td>-80.86</td>\n",
       "      <td>112.5</td>\n",
       "      <td>4292.73</td>\n",
       "      <td>4263.058354</td>\n",
       "      <td>3992.37</td>\n",
       "      <td>4089.865</td>\n",
       "      <td>-106.65</td>\n",
       "      <td>-474.25</td>\n",
       "      <td>-10.528945</td>\n",
       "      <td>-0.038439</td>\n",
       "      <td>-486195115.1</td>\n",
       "      <td>72.71</td>\n",
       "      <td>9.000</td>\n",
       "    </tr>\n",
       "  </tbody>\n",
       "</table>\n",
       "</div>"
      ],
      "text/plain": [
       "        date     open     high      low    close     volume    macd     cci  \\\n",
       "0 2008-07-01  4039.75  4075.40  3878.20  3896.75  164469220 -201.56 -180.03   \n",
       "1 2008-07-02  3895.30  4107.15  3848.25  4093.35  199920144 -199.63 -131.91   \n",
       "2 2008-07-03  4094.60  4097.35  3874.85  3925.75  154573765 -209.21 -129.55   \n",
       "3 2008-07-04  3926.65  4033.50  3896.40  4016.00  152045352 -207.14 -111.08   \n",
       "4 2008-07-07  4002.00  4114.50  4002.00  4030.00  125737237 -202.03  -80.86   \n",
       "\n",
       "     atr  boll_mid        ema20      ma5      ma10    mtm6   mtm12        roc  \\\n",
       "0  197.2   4409.04  4385.058946  4128.49  4253.415 -369.65 -620.35 -13.733369   \n",
       "1  258.9   4384.43  4357.277142  4096.63  4204.510  -97.75 -479.15 -10.478950   \n",
       "2  222.5   4346.87  4316.179319  4018.61  4146.660 -326.90 -727.25 -15.629701   \n",
       "3  137.1   4316.28  4287.590812  3994.48  4113.505 -299.85 -566.40 -12.360335   \n",
       "4  112.5   4292.73  4263.058354  3992.37  4089.865 -106.65 -474.25 -10.528945   \n",
       "\n",
       "        smi         wvad  us dollar index  interbank offered rate  \n",
       "0 -0.149627 -828023961.0            72.34                   8.706  \n",
       "1 -0.091225 -561033032.0            71.99                   7.730  \n",
       "2 -0.097020 -726253640.3            72.73                   6.400  \n",
       "3 -0.058691 -548766472.1            72.71                   6.210  \n",
       "4 -0.038439 -486195115.1            72.71                   9.000  "
      ]
     },
     "execution_count": 68,
     "metadata": {},
     "output_type": "execute_result"
    }
   ],
   "source": [
    "dict_dataframes_index['nifty 50 index data'].head()"
   ]
  },
  {
   "cell_type": "code",
   "execution_count": 69,
   "metadata": {},
   "outputs": [
    {
     "data": {
      "text/plain": [
       "odict_keys(['csi300 index data', 'csi300 index future data', 'nifty 50 index data', 'nifty 50 index future data', 'hangseng index data', 'hangseng index future data', 'nikkei 225 index data', 'nikkei 225 index future data', 's&p500 index data', 's&p500 index future data', 'djia index data', 'djia index future data'])"
      ]
     },
     "execution_count": 69,
     "metadata": {},
     "output_type": "execute_result"
    }
   ],
   "source": [
    "dict_dataframes_index.keys()"
   ]
  },
  {
   "cell_type": "code",
   "execution_count": 70,
   "metadata": {},
   "outputs": [],
   "source": [
    "dict_dataframes_index['csi300 index data']['date'] = pd.to_datetime(dict_dataframes_index['csi300 index data']['date'].astype(str), format='%Y-%m-%d')"
   ]
  },
  {
   "cell_type": "code",
   "execution_count": 71,
   "metadata": {},
   "outputs": [
    {
     "data": {
      "text/html": [
       "<div>\n",
       "<style scoped>\n",
       "    .dataframe tbody tr th:only-of-type {\n",
       "        vertical-align: middle;\n",
       "    }\n",
       "\n",
       "    .dataframe tbody tr th {\n",
       "        vertical-align: top;\n",
       "    }\n",
       "\n",
       "    .dataframe thead th {\n",
       "        text-align: right;\n",
       "    }\n",
       "</style>\n",
       "<table border=\"1\" class=\"dataframe\">\n",
       "  <thead>\n",
       "    <tr style=\"text-align: right;\">\n",
       "      <th></th>\n",
       "      <th>open</th>\n",
       "      <th>high</th>\n",
       "      <th>low</th>\n",
       "      <th>close</th>\n",
       "      <th>volume</th>\n",
       "      <th>us dollar index</th>\n",
       "      <th>shibor</th>\n",
       "      <th>macd</th>\n",
       "      <th>cci</th>\n",
       "      <th>atr</th>\n",
       "      <th>boll</th>\n",
       "      <th>ema20</th>\n",
       "      <th>ma10</th>\n",
       "      <th>mtm6</th>\n",
       "      <th>ma5</th>\n",
       "      <th>mtm12</th>\n",
       "      <th>roc</th>\n",
       "      <th>smi</th>\n",
       "      <th>wvad</th>\n",
       "    </tr>\n",
       "    <tr>\n",
       "      <th>date</th>\n",
       "      <th></th>\n",
       "      <th></th>\n",
       "      <th></th>\n",
       "      <th></th>\n",
       "      <th></th>\n",
       "      <th></th>\n",
       "      <th></th>\n",
       "      <th></th>\n",
       "      <th></th>\n",
       "      <th></th>\n",
       "      <th></th>\n",
       "      <th></th>\n",
       "      <th></th>\n",
       "      <th></th>\n",
       "      <th></th>\n",
       "      <th></th>\n",
       "      <th></th>\n",
       "      <th></th>\n",
       "      <th></th>\n",
       "    </tr>\n",
       "  </thead>\n",
       "  <tbody>\n",
       "    <tr>\n",
       "      <td>2008-07-01</td>\n",
       "      <td>2799.20</td>\n",
       "      <td>2809.38</td>\n",
       "      <td>2690.18</td>\n",
       "      <td>2698.35</td>\n",
       "      <td>288515.85</td>\n",
       "      <td>72.34</td>\n",
       "      <td>2.5006</td>\n",
       "      <td>-213.078565</td>\n",
       "      <td>-128.949052</td>\n",
       "      <td>119.200</td>\n",
       "      <td>3173.475692</td>\n",
       "      <td>3033.748201</td>\n",
       "      <td>2851.2504</td>\n",
       "      <td>-91.594</td>\n",
       "      <td>2851.3262</td>\n",
       "      <td>-280.770</td>\n",
       "      <td>-9.424605</td>\n",
       "      <td>-0.097927</td>\n",
       "      <td>-8.726278e+07</td>\n",
       "    </tr>\n",
       "    <tr>\n",
       "      <td>2008-07-02</td>\n",
       "      <td>2702.63</td>\n",
       "      <td>2745.94</td>\n",
       "      <td>2670.06</td>\n",
       "      <td>2699.60</td>\n",
       "      <td>279163.65</td>\n",
       "      <td>71.99</td>\n",
       "      <td>2.7238</td>\n",
       "      <td>-213.732249</td>\n",
       "      <td>-139.719688</td>\n",
       "      <td>75.875</td>\n",
       "      <td>3140.413385</td>\n",
       "      <td>3001.924277</td>\n",
       "      <td>2822.0828</td>\n",
       "      <td>-152.318</td>\n",
       "      <td>2797.3382</td>\n",
       "      <td>-252.645</td>\n",
       "      <td>-8.557733</td>\n",
       "      <td>-0.026497</td>\n",
       "      <td>-1.095493e+08</td>\n",
       "    </tr>\n",
       "    <tr>\n",
       "      <td>2008-07-03</td>\n",
       "      <td>2654.48</td>\n",
       "      <td>2807.68</td>\n",
       "      <td>2617.26</td>\n",
       "      <td>2760.61</td>\n",
       "      <td>456603.05</td>\n",
       "      <td>72.73</td>\n",
       "      <td>2.5762</td>\n",
       "      <td>-206.941406</td>\n",
       "      <td>-112.113057</td>\n",
       "      <td>190.424</td>\n",
       "      <td>3109.044731</td>\n",
       "      <td>2978.942155</td>\n",
       "      <td>2820.8364</td>\n",
       "      <td>-208.925</td>\n",
       "      <td>2753.2792</td>\n",
       "      <td>-82.064</td>\n",
       "      <td>-2.886857</td>\n",
       "      <td>-0.031251</td>\n",
       "      <td>-5.855737e+07</td>\n",
       "    </tr>\n",
       "    <tr>\n",
       "      <td>2008-07-04</td>\n",
       "      <td>2751.21</td>\n",
       "      <td>2783.85</td>\n",
       "      <td>2716.02</td>\n",
       "      <td>2741.85</td>\n",
       "      <td>379050.10</td>\n",
       "      <td>72.71</td>\n",
       "      <td>2.5632</td>\n",
       "      <td>-200.759162</td>\n",
       "      <td>-81.997539</td>\n",
       "      <td>67.825</td>\n",
       "      <td>3073.107115</td>\n",
       "      <td>2956.362140</td>\n",
       "      <td>2810.0548</td>\n",
       "      <td>-239.055</td>\n",
       "      <td>2738.4454</td>\n",
       "      <td>-249.421</td>\n",
       "      <td>-8.338289</td>\n",
       "      <td>-0.017237</td>\n",
       "      <td>-7.467503e+07</td>\n",
       "    </tr>\n",
       "    <tr>\n",
       "      <td>2008-07-07</td>\n",
       "      <td>2747.61</td>\n",
       "      <td>2890.99</td>\n",
       "      <td>2747.61</td>\n",
       "      <td>2882.76</td>\n",
       "      <td>527320.24</td>\n",
       "      <td>72.71</td>\n",
       "      <td>2.5679</td>\n",
       "      <td>-182.386907</td>\n",
       "      <td>21.707767</td>\n",
       "      <td>149.133</td>\n",
       "      <td>3046.256923</td>\n",
       "      <td>2949.352699</td>\n",
       "      <td>2819.3370</td>\n",
       "      <td>66.742</td>\n",
       "      <td>2756.6342</td>\n",
       "      <td>109.687</td>\n",
       "      <td>3.955427</td>\n",
       "      <td>0.010701</td>\n",
       "      <td>-3.531151e+07</td>\n",
       "    </tr>\n",
       "  </tbody>\n",
       "</table>\n",
       "</div>"
      ],
      "text/plain": [
       "               open     high      low    close     volume  us dollar index  \\\n",
       "date                                                                         \n",
       "2008-07-01  2799.20  2809.38  2690.18  2698.35  288515.85            72.34   \n",
       "2008-07-02  2702.63  2745.94  2670.06  2699.60  279163.65            71.99   \n",
       "2008-07-03  2654.48  2807.68  2617.26  2760.61  456603.05            72.73   \n",
       "2008-07-04  2751.21  2783.85  2716.02  2741.85  379050.10            72.71   \n",
       "2008-07-07  2747.61  2890.99  2747.61  2882.76  527320.24            72.71   \n",
       "\n",
       "            shibor        macd         cci      atr         boll        ema20  \\\n",
       "date                                                                            \n",
       "2008-07-01  2.5006 -213.078565 -128.949052  119.200  3173.475692  3033.748201   \n",
       "2008-07-02  2.7238 -213.732249 -139.719688   75.875  3140.413385  3001.924277   \n",
       "2008-07-03  2.5762 -206.941406 -112.113057  190.424  3109.044731  2978.942155   \n",
       "2008-07-04  2.5632 -200.759162  -81.997539   67.825  3073.107115  2956.362140   \n",
       "2008-07-07  2.5679 -182.386907   21.707767  149.133  3046.256923  2949.352699   \n",
       "\n",
       "                 ma10     mtm6        ma5    mtm12       roc       smi  \\\n",
       "date                                                                     \n",
       "2008-07-01  2851.2504  -91.594  2851.3262 -280.770 -9.424605 -0.097927   \n",
       "2008-07-02  2822.0828 -152.318  2797.3382 -252.645 -8.557733 -0.026497   \n",
       "2008-07-03  2820.8364 -208.925  2753.2792  -82.064 -2.886857 -0.031251   \n",
       "2008-07-04  2810.0548 -239.055  2738.4454 -249.421 -8.338289 -0.017237   \n",
       "2008-07-07  2819.3370   66.742  2756.6342  109.687  3.955427  0.010701   \n",
       "\n",
       "                    wvad  \n",
       "date                      \n",
       "2008-07-01 -8.726278e+07  \n",
       "2008-07-02 -1.095493e+08  \n",
       "2008-07-03 -5.855737e+07  \n",
       "2008-07-04 -7.467503e+07  \n",
       "2008-07-07 -3.531151e+07  "
      ]
     },
     "execution_count": 71,
     "metadata": {},
     "output_type": "execute_result"
    }
   ],
   "source": [
    "dict_dataframes_index['csi300 index data'] = dict_dataframes_index['csi300 index data'].set_index('date')\n",
    "dict_dataframes_index['csi300 index data'].head()"
   ]
  },
  {
   "cell_type": "code",
   "execution_count": 72,
   "metadata": {},
   "outputs": [
    {
     "data": {
      "text/plain": [
       "Text(0,0.5,'Close')"
      ]
     },
     "execution_count": 72,
     "metadata": {},
     "output_type": "execute_result"
    },
    {
     "data": {
      "image/png": "[encoded data removed]",
      "text/plain": [
       "<Figure size 432x288 with 1 Axes>"
      ]
     },
     "metadata": {
      "needs_background": "light"
     },
     "output_type": "display_data"
    }
   ],
   "source": [
    "import matplotlib.pyplot as plt\n",
    "%matplotlib inline\n",
    "plt.title('csi300 index data')\n",
    "plt.plot(dict_dataframes_index['csi300 index data'].index,\n",
    "        dict_dataframes_index['csi300 index data']['close'])\n",
    "plt.xlabel('Time')\n",
    "plt.ylabel('Close')\n",
    "# plt.show()"
   ]
  },
  {
   "cell_type": "code",
   "execution_count": 74,
   "metadata": {},
   "outputs": [
    {
     "data": {
      "text/plain": [
       "array([[ 2.79920000e+03,  2.80938000e+03,  2.69018000e+03, ...,\n",
       "        -9.42460467e+00, -9.79268693e-02, -8.72627838e+07],\n",
       "       [ 2.70263000e+03,  2.74594000e+03,  2.67006000e+03, ...,\n",
       "        -8.55773341e+00, -2.64972904e-02, -1.09549319e+08],\n",
       "       [ 2.65448000e+03,  2.80768000e+03,  2.61726000e+03, ...,\n",
       "        -2.88685731e+00, -3.12513598e-02, -5.85573695e+07],\n",
       "       ...,\n",
       "       [ 3.24364700e+03,  3.24364700e+03,  3.22799600e+03, ...,\n",
       "        -3.25412539e+00, -9.03054995e-03, -1.52809487e+08],\n",
       "       [ 3.23485700e+03,  3.25776680e+03,  3.23480320e+03, ...,\n",
       "        -2.21988015e+00,  1.74378066e-03, -8.96478826e+07],\n",
       "       [ 3.24017750e+03,  3.26094050e+03,  3.23903640e+03, ...,\n",
       "        -2.85646040e-01, -3.01533114e-03, -4.81545298e+07]])"
      ]
     },
     "execution_count": 74,
     "metadata": {},
     "output_type": "execute_result"
    }
   ],
   "source": [
    "import datetime as dt\n",
    "X = dict_dataframes_index['csi300 index data'].values\n",
    "X"
   ]
  },
  {
   "cell_type": "code",
   "execution_count": 76,
   "metadata": {},
   "outputs": [],
   "source": [
    "dict_dataframes['csi300 index data'].head()\n",
    "dict_dataframes['csi300 index data'].drop(['date'],axis=1,inplace=True)"
   ]
  },
  {
   "cell_type": "code",
   "execution_count": 77,
   "metadata": {},
   "outputs": [
    {
     "data": {
      "text/html": [
       "<div>\n",
       "<style scoped>\n",
       "    .dataframe tbody tr th:only-of-type {\n",
       "        vertical-align: middle;\n",
       "    }\n",
       "\n",
       "    .dataframe tbody tr th {\n",
       "        vertical-align: top;\n",
       "    }\n",
       "\n",
       "    .dataframe thead th {\n",
       "        text-align: right;\n",
       "    }\n",
       "</style>\n",
       "<table border=\"1\" class=\"dataframe\">\n",
       "  <thead>\n",
       "    <tr style=\"text-align: right;\">\n",
       "      <th></th>\n",
       "      <th>open</th>\n",
       "      <th>high</th>\n",
       "      <th>low</th>\n",
       "      <th>close</th>\n",
       "      <th>volume</th>\n",
       "      <th>us dollar index</th>\n",
       "      <th>shibor</th>\n",
       "      <th>macd</th>\n",
       "      <th>cci</th>\n",
       "      <th>atr</th>\n",
       "      <th>boll</th>\n",
       "      <th>ema20</th>\n",
       "      <th>ma10</th>\n",
       "      <th>mtm6</th>\n",
       "      <th>ma5</th>\n",
       "      <th>mtm12</th>\n",
       "      <th>roc</th>\n",
       "      <th>smi</th>\n",
       "      <th>wvad</th>\n",
       "    </tr>\n",
       "  </thead>\n",
       "  <tbody>\n",
       "    <tr>\n",
       "      <td>0</td>\n",
       "      <td>2799.20</td>\n",
       "      <td>2809.38</td>\n",
       "      <td>2690.18</td>\n",
       "      <td>2698.35</td>\n",
       "      <td>288515.85</td>\n",
       "      <td>72.34</td>\n",
       "      <td>2.5006</td>\n",
       "      <td>-213.078565</td>\n",
       "      <td>-128.949052</td>\n",
       "      <td>119.200</td>\n",
       "      <td>3173.475692</td>\n",
       "      <td>3033.748201</td>\n",
       "      <td>2851.2504</td>\n",
       "      <td>-91.594</td>\n",
       "      <td>2851.3262</td>\n",
       "      <td>-280.770</td>\n",
       "      <td>-9.424605</td>\n",
       "      <td>-0.097927</td>\n",
       "      <td>-8.726278e+07</td>\n",
       "    </tr>\n",
       "    <tr>\n",
       "      <td>1</td>\n",
       "      <td>2702.63</td>\n",
       "      <td>2745.94</td>\n",
       "      <td>2670.06</td>\n",
       "      <td>2699.60</td>\n",
       "      <td>279163.65</td>\n",
       "      <td>71.99</td>\n",
       "      <td>2.7238</td>\n",
       "      <td>-213.732249</td>\n",
       "      <td>-139.719688</td>\n",
       "      <td>75.875</td>\n",
       "      <td>3140.413385</td>\n",
       "      <td>3001.924277</td>\n",
       "      <td>2822.0828</td>\n",
       "      <td>-152.318</td>\n",
       "      <td>2797.3382</td>\n",
       "      <td>-252.645</td>\n",
       "      <td>-8.557733</td>\n",
       "      <td>-0.026497</td>\n",
       "      <td>-1.095493e+08</td>\n",
       "    </tr>\n",
       "    <tr>\n",
       "      <td>2</td>\n",
       "      <td>2654.48</td>\n",
       "      <td>2807.68</td>\n",
       "      <td>2617.26</td>\n",
       "      <td>2760.61</td>\n",
       "      <td>456603.05</td>\n",
       "      <td>72.73</td>\n",
       "      <td>2.5762</td>\n",
       "      <td>-206.941406</td>\n",
       "      <td>-112.113057</td>\n",
       "      <td>190.424</td>\n",
       "      <td>3109.044731</td>\n",
       "      <td>2978.942155</td>\n",
       "      <td>2820.8364</td>\n",
       "      <td>-208.925</td>\n",
       "      <td>2753.2792</td>\n",
       "      <td>-82.064</td>\n",
       "      <td>-2.886857</td>\n",
       "      <td>-0.031251</td>\n",
       "      <td>-5.855737e+07</td>\n",
       "    </tr>\n",
       "    <tr>\n",
       "      <td>3</td>\n",
       "      <td>2751.21</td>\n",
       "      <td>2783.85</td>\n",
       "      <td>2716.02</td>\n",
       "      <td>2741.85</td>\n",
       "      <td>379050.10</td>\n",
       "      <td>72.71</td>\n",
       "      <td>2.5632</td>\n",
       "      <td>-200.759162</td>\n",
       "      <td>-81.997539</td>\n",
       "      <td>67.825</td>\n",
       "      <td>3073.107115</td>\n",
       "      <td>2956.362140</td>\n",
       "      <td>2810.0548</td>\n",
       "      <td>-239.055</td>\n",
       "      <td>2738.4454</td>\n",
       "      <td>-249.421</td>\n",
       "      <td>-8.338289</td>\n",
       "      <td>-0.017237</td>\n",
       "      <td>-7.467503e+07</td>\n",
       "    </tr>\n",
       "    <tr>\n",
       "      <td>4</td>\n",
       "      <td>2747.61</td>\n",
       "      <td>2890.99</td>\n",
       "      <td>2747.61</td>\n",
       "      <td>2882.76</td>\n",
       "      <td>527320.24</td>\n",
       "      <td>72.71</td>\n",
       "      <td>2.5679</td>\n",
       "      <td>-182.386907</td>\n",
       "      <td>21.707767</td>\n",
       "      <td>149.133</td>\n",
       "      <td>3046.256923</td>\n",
       "      <td>2949.352699</td>\n",
       "      <td>2819.3370</td>\n",
       "      <td>66.742</td>\n",
       "      <td>2756.6342</td>\n",
       "      <td>109.687</td>\n",
       "      <td>3.955427</td>\n",
       "      <td>0.010701</td>\n",
       "      <td>-3.531151e+07</td>\n",
       "    </tr>\n",
       "  </tbody>\n",
       "</table>\n",
       "</div>"
      ],
      "text/plain": [
       "      open     high      low    close     volume  us dollar index  shibor  \\\n",
       "0  2799.20  2809.38  2690.18  2698.35  288515.85            72.34  2.5006   \n",
       "1  2702.63  2745.94  2670.06  2699.60  279163.65            71.99  2.7238   \n",
       "2  2654.48  2807.68  2617.26  2760.61  456603.05            72.73  2.5762   \n",
       "3  2751.21  2783.85  2716.02  2741.85  379050.10            72.71  2.5632   \n",
       "4  2747.61  2890.99  2747.61  2882.76  527320.24            72.71  2.5679   \n",
       "\n",
       "         macd         cci      atr         boll        ema20       ma10  \\\n",
       "0 -213.078565 -128.949052  119.200  3173.475692  3033.748201  2851.2504   \n",
       "1 -213.732249 -139.719688   75.875  3140.413385  3001.924277  2822.0828   \n",
       "2 -206.941406 -112.113057  190.424  3109.044731  2978.942155  2820.8364   \n",
       "3 -200.759162  -81.997539   67.825  3073.107115  2956.362140  2810.0548   \n",
       "4 -182.386907   21.707767  149.133  3046.256923  2949.352699  2819.3370   \n",
       "\n",
       "      mtm6        ma5    mtm12       roc       smi          wvad  \n",
       "0  -91.594  2851.3262 -280.770 -9.424605 -0.097927 -8.726278e+07  \n",
       "1 -152.318  2797.3382 -252.645 -8.557733 -0.026497 -1.095493e+08  \n",
       "2 -208.925  2753.2792  -82.064 -2.886857 -0.031251 -5.855737e+07  \n",
       "3 -239.055  2738.4454 -249.421 -8.338289 -0.017237 -7.467503e+07  \n",
       "4   66.742  2756.6342  109.687  3.955427  0.010701 -3.531151e+07  "
      ]
     },
     "execution_count": 77,
     "metadata": {},
     "output_type": "execute_result"
    }
   ],
   "source": [
    "dict_dataframes['csi300 index data'].head()"
   ]
  },
  {
   "cell_type": "code",
   "execution_count": 146,
   "metadata": {},
   "outputs": [
    {
     "data": {
      "text/plain": [
       "array([[ 2.79920000e+03,  2.80938000e+03,  2.69018000e+03, ...,\n",
       "        -9.42460467e+00, -9.79268693e-02, -8.72627838e+07],\n",
       "       [ 2.70263000e+03,  2.74594000e+03,  2.67006000e+03, ...,\n",
       "        -8.55773341e+00, -2.64972904e-02, -1.09549319e+08],\n",
       "       [ 2.65448000e+03,  2.80768000e+03,  2.61726000e+03, ...,\n",
       "        -2.88685731e+00, -3.12513598e-02, -5.85573695e+07],\n",
       "       ...,\n",
       "       [ 3.24364700e+03,  3.24364700e+03,  3.22799600e+03, ...,\n",
       "        -3.25412539e+00, -9.03054995e-03, -1.52809487e+08],\n",
       "       [ 3.23485700e+03,  3.25776680e+03,  3.23480320e+03, ...,\n",
       "        -2.21988015e+00,  1.74378066e-03, -8.96478826e+07],\n",
       "       [ 3.24017750e+03,  3.26094050e+03,  3.23903640e+03, ...,\n",
       "        -2.85646040e-01, -3.01533114e-03, -4.81545298e+07]])"
      ]
     },
     "execution_count": 146,
     "metadata": {},
     "output_type": "execute_result"
    }
   ],
   "source": [
    "from sklearn.model_selection import TimeSeriesSplit\n",
    "X = dict_dataframes['csi300 index data'].values\n",
    "X"
   ]
  },
  {
   "cell_type": "code",
   "execution_count": 187,
   "metadata": {},
   "outputs": [
    {
     "name": "stdout",
     "output_type": "stream",
     "text": [
      "Observations: 575\n",
      "Training Observations: 288\n",
      "Testing Observations: 287\n",
      "Observations: 862\n",
      "Training Observations: 575\n",
      "Testing Observations: 287\n",
      "Observations: 1149\n",
      "Training Observations: 862\n",
      "Testing Observations: 287\n",
      "Observations: 1436\n",
      "Training Observations: 1149\n",
      "Testing Observations: 287\n",
      "Observations: 1723\n",
      "Training Observations: 1436\n",
      "Testing Observations: 287\n",
      "Observations: 2010\n",
      "Training Observations: 1723\n",
      "Testing Observations: 287\n"
     ]
    }
   ],
   "source": [
    "splits = TimeSeriesSplit(n_splits=6)\n",
    "train_list = []\n",
    "test_list = []\n",
    "# X = np.array([[1, 2], [3, 4], [1, 2], [3, 4], [1, 2], [3, 4]])\n",
    "y = np.arange(0,100)\n",
    "for train_index, test_index in splits.split(X):\n",
    "    train = X[train_index]\n",
    "    test = X[test_index]\n",
    "    train_list.append(train)\n",
    "    test_list.append(test)\n",
    "    print('Observations: %d' % (len(train) + len(test)))\n",
    "    print('Training Observations: %d' % (len(train)))\n",
    "    print('Testing Observations: %d' % (len(test)))\n",
    "#     print('Training shape: %d' % (train.shape))\n",
    "#     print('Testing shape: %d' % (test.shape))\n",
    "# print(\"Train:\", train_list)\n",
    "# print(\"Test:\",test_list)\n"
   ]
  },
  {
   "cell_type": "code",
   "execution_count": 209,
   "metadata": {},
   "outputs": [
    {
     "name": "stdout",
     "output_type": "stream",
     "text": [
      "(287, 19)\n",
      "[[ 2.79920000e+03  2.80938000e+03  2.69018000e+03 ... -9.42460467e+00\n",
      "  -9.79268693e-02 -8.72627838e+07]\n",
      " [ 2.70263000e+03  2.74594000e+03  2.67006000e+03 ... -8.55773341e+00\n",
      "  -2.64972904e-02 -1.09549319e+08]\n",
      " [ 2.65448000e+03  2.80768000e+03  2.61726000e+03 ... -2.88685731e+00\n",
      "  -3.12513598e-02 -5.85573695e+07]\n",
      " ...\n",
      " [ 3.14957000e+03  3.21227000e+03  3.11689000e+03 ... -1.12494886e+01\n",
      "  -5.62604688e-02 -4.88211696e+07]\n",
      " [ 3.15204000e+03  3.16819000e+03  3.03073000e+03 ... -1.03202155e+01\n",
      "  -2.97713159e-02 -2.31053336e+08]\n",
      " [ 3.00354000e+03  3.00354000e+03  2.82577000e+03 ... -1.77442877e+01\n",
      "  -1.07729038e-01 -3.42461309e+08]]\n"
     ]
    },
    {
     "data": {
      "text/plain": [
       "list"
      ]
     },
     "execution_count": 209,
     "metadata": {},
     "output_type": "execute_result"
    }
   ],
   "source": [
    "len(train_list[0][0]),len(test_list[0][0])\n",
    "print(test_list[0].shape)\n",
    "print(train_list[0])\n",
    "type(train_list)\n",
    "\n"
   ]
  },
  {
   "cell_type": "code",
   "execution_count": 193,
   "metadata": {},
   "outputs": [
    {
     "name": "stdout",
     "output_type": "stream",
     "text": [
      "288 287\n",
      "3003.54 2804.58\n",
      "3003.54 2804.58\n"
     ]
    },
    {
     "data": {
      "image/png": "[encoded data removed]",
      "text/plain": [
       "<Figure size 432x288 with 1 Axes>"
      ]
     },
     "metadata": {
      "needs_background": "light"
     },
     "output_type": "display_data"
    }
   ],
   "source": [
    "#Not working due to lack of datetime index from/in dataframe format\n",
    "\n",
    "plt.title(\"Train/Test[0] split for csi300 index data\")\n",
    "plt.xlabel(\"date\")\n",
    "plt.ylabel(\"close\")\n",
    "k1 = train_list[0].shape[0]\n",
    "x1 = np.arange(0,k1)\n",
    "k2 = test_list[0].shape[0]\n",
    "x2 = np.arange(k1,k1+k2)\n",
    "train_plt = np.array(train_list[0])\n",
    "test_plt = np.array(test_list[0])\n",
    "plt.plot(x1,train_plt[:,0],'orange')\n",
    "plt.plot(x2,test_plt[:,0],'purple')\n",
    "plt.xlim(270,300)\n",
    "print(k1,k2)\n",
    "print(train_plt[k1-1,0],test_plt[0,0])\n",
    "print(X[k1-1,0],X[k1,0])"
   ]
  },
  {
   "cell_type": "code",
   "execution_count": 181,
   "metadata": {},
   "outputs": [
    {
     "data": {
      "text/plain": [
       "array([0, 1, 2, 3, 4, 5, 6, 7, 8, 9])"
      ]
     },
     "execution_count": 181,
     "metadata": {},
     "output_type": "execute_result"
    }
   ],
   "source": [
    "np.arange(0,10)"
   ]
  },
  {
   "cell_type": "code",
   "execution_count": 289,
   "metadata": {},
   "outputs": [
    {
     "name": "stdout",
     "output_type": "stream",
     "text": [
      "(288, 5) (288, 5) (288, 10)\n"
     ]
    }
   ],
   "source": [
    "from pywt import wavedec\n",
    "coeffs = wavedec(train_list[0], 'haar',level=2)\n",
    "cA2, cD2, cD1 = coeffs\n",
    "# print(coeffs.shape)\n",
    "print(cA2.shape,cD2.shape,cD1.shape)\n",
    "# print(cA2)"
   ]
  },
  {
   "cell_type": "code",
   "execution_count": 290,
   "metadata": {},
   "outputs": [
    {
     "data": {
      "text/plain": [
       "[<matplotlib.lines.Line2D at 0x1a2912d650>]"
      ]
     },
     "execution_count": 290,
     "metadata": {},
     "output_type": "execute_result"
    },
    {
     "data": {
      "image/png": "[encoded data removed]",
      "text/plain": [
       "<Figure size 432x288 with 1 Axes>"
      ]
     },
     "metadata": {
      "needs_background": "light"
     },
     "output_type": "display_data"
    }
   ],
   "source": [
    "plt.plot(train_plt[:,0],'blue', label='Original signal')"
   ]
  },
  {
   "cell_type": "code",
   "execution_count": 291,
   "metadata": {},
   "outputs": [
    {
     "name": "stdout",
     "output_type": "stream",
     "text": [
      "5\n"
     ]
    },
    {
     "data": {
      "image/png": "[encoded data removed]",
      "text/plain": [
       "<Figure size 432x288 with 1 Axes>"
      ]
     },
     "metadata": {
      "needs_background": "light"
     },
     "output_type": "display_data"
    }
   ],
   "source": [
    "plt.plot(cD2[:,4],'green')\n",
    "plt.plot(cA2[:,4],'red')\n",
    "print(cD2.shape[1])"
   ]
  },
  {
   "cell_type": "code",
   "execution_count": 292,
   "metadata": {},
   "outputs": [
    {
     "data": {
      "image/png": "[encoded data removed]",
      "text/plain": [
       "<Figure size 1080x216 with 5 Axes>"
      ]
     },
     "metadata": {
      "needs_background": "light"
     },
     "output_type": "display_data"
    }
   ],
   "source": [
    "fig = plt.figure(figsize=(15,3 ))\n",
    "for i in range(0,cD2.shape[1]):\n",
    "    ax = fig.add_subplot(1,5,i+1)\n",
    "    plt.plot(cD2[:,i],'green',label='cD2')\n",
    "    plt.plot(cA2[:,i],'red',label='cA2')\n",
    "    plt.xlabel('Time')\n",
    "    plt.ylabel('Coeff')\n",
    "    plt.legend()"
   ]
  },
  {
   "cell_type": "code",
   "execution_count": 293,
   "metadata": {},
   "outputs": [],
   "source": [
    "# Wavelet reconstruction\n",
    "import pywt\n",
    "def wavelet_reconstruct(cA2,cD2,cD1):\n",
    "    coeffs = cA2,cD2,cD1\n",
    "    reconstructed_signal = pywt.waverec(coeffs,'haar')\n",
    "    return reconstructed_signal\n",
    "Train_reconst = wavelet_reconstruct(cA2,cD2,cD1)"
   ]
  },
  {
   "cell_type": "code",
   "execution_count": 286,
   "metadata": {},
   "outputs": [
    {
     "data": {
      "text/plain": [
       "(288, 20)"
      ]
     },
     "execution_count": 286,
     "metadata": {},
     "output_type": "execute_result"
    }
   ],
   "source": [
    "Train_reconst.shape"
   ]
  },
  {
   "cell_type": "code",
   "execution_count": 295,
   "metadata": {},
   "outputs": [
    {
     "name": "stdout",
     "output_type": "stream",
     "text": [
      "[ 2.65448000e+03  2.80768000e+03  2.61726000e+03  2.76061000e+03\n",
      "  4.56603050e+05  7.27300000e+01  2.57620000e+00 -2.06941406e+02\n",
      " -1.12113057e+02  1.90424000e+02  3.10904473e+03  2.97894216e+03\n",
      "  2.82083640e+03 -2.08925000e+02  2.75327920e+03 -8.20640000e+01\n",
      " -2.88685731e+00 -3.12513606e-02 -5.85573695e+07 -5.85573695e+07]\n"
     ]
    }
   ],
   "source": [
    "print(Train_reconst[2])"
   ]
  },
  {
   "cell_type": "code",
   "execution_count": 276,
   "metadata": {},
   "outputs": [
    {
     "data": {
      "text/plain": [
       "(288, 19)"
      ]
     },
     "execution_count": 276,
     "metadata": {},
     "output_type": "execute_result"
    }
   ],
   "source": [
    "train_plt.shape"
   ]
  },
  {
   "cell_type": "code",
   "execution_count": 279,
   "metadata": {},
   "outputs": [
    {
     "name": "stdout",
     "output_type": "stream",
     "text": [
      "[ 2.79920000e+03  2.80938000e+03  2.69018000e+03  2.69835000e+03\n",
      "  2.88515850e+05  7.23400000e+01  2.50060000e+00 -2.13078565e+02\n",
      " -1.28949052e+02  1.19200000e+02  3.17347569e+03  3.03374820e+03\n",
      "  2.85125040e+03 -9.15940000e+01  2.85132620e+03 -2.80770000e+02\n",
      " -9.42460467e+00 -9.79268693e-02 -8.72627838e+07]\n"
     ]
    }
   ],
   "source": [
    "print(train_list[0][0])"
   ]
  },
  {
   "cell_type": "code",
   "execution_count": 288,
   "metadata": {},
   "outputs": [
    {
     "data": {
      "text/plain": [
       "array([1., 2., 3., 4., 5., 6., 7., 8.])"
      ]
     },
     "execution_count": 288,
     "metadata": {},
     "output_type": "execute_result"
    }
   ],
   "source": [
    "coeffs = pywt.wavedec([1,2,3,4,5,6,7,8], 'db1', level=2)\n",
    "pywt.waverec(coeffs, 'db1')"
   ]
  },
  {
   "cell_type": "code",
   "execution_count": null,
   "metadata": {},
   "outputs": [],
   "source": []
  }
 ],
 "metadata": {
  "kernelspec": {
   "display_name": "Python 3",
   "language": "python",
   "name": "python3"
  },
  "language_info": {
   "codemirror_mode": {
    "name": "ipython",
    "version": 3
   },
   "file_extension": ".py",
   "mimetype": "text/x-python",
   "name": "python",
   "nbconvert_exporter": "python",
   "pygments_lexer": "ipython3",
   "version": "3.7.4"
  }
 },
 "nbformat": 4,
 "nbformat_minor": 2
}
